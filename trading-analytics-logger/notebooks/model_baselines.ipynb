import pandas as pd

# فرض کنید data_list یک لیست از دیکشنری‌ها است که داده‌های شما را ذخیره می‌کند
data_list = []

# در طول زمان، داده‌ها را جمع‌آوری کنید
data_list.append({
    'timestamp': timestamp,
    'open': open_price,
    'high': high_price,
    'low': low_price,
    'close': close_price,
    'profit': profit,
    'trade_signal': trade_signal,
})

# در پایان، داده‌ها را به یک DataFrame تبدیل کنید و در یک فایل CSV ذخیره کنید
df = pd.DataFrame(data_list)
df.to_csv('trading_data.csv', index=False)