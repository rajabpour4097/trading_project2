import pandas as pd
from datetime import datetime
import MetaTrader5 as mt5

# اتصال به MT5
mt5.initialize()

# لیست برای ذخیره داده‌ها
data = []

# فرض کنید که شما در حال جمع‌آوری داده‌ها در یک حلقه هستید
while True:
    # جمع‌آوری داده‌ها
    deals = mt5.history_deals_get(datetime(2025, 8, 7), datetime(2025, 8, 8))
    
    for deal in deals:
        data.append({
            'timestamp': datetime.fromtimestamp(deal.time),
            'type': 'BUY' if deal.type == 0 else 'SELL',
            'volume': deal.volume,
            'entry_price': deal.price,
            'profit': deal.profit,
            # اضافه کردن اطلاعات دیگر
        })
    
    # ذخیره‌سازی داده‌ها در فایل CSV
    df = pd.DataFrame(data)
    df.to_csv('trading_data.csv', index=False)

    # توقف برای جلوگیری از بارگذاری بیش از حد
    time.sleep(60)  # هر 60 ثانیه یک بار داده‌ها را جمع‌آوری کنید