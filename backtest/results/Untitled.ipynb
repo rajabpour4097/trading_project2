{
 "cells": [
  {
   "cell_type": "code",
   "execution_count": 1,
   "id": "87458b09-67fd-4fad-acdc-2fd1dfa63732",
   "metadata": {},
   "outputs": [],
   "source": [
    "import pandas as pd\n",
    "import numpy as np"
   ]
  },
  {
   "cell_type": "code",
   "execution_count": 2,
   "id": "ea84278c-fa9c-488d-90d3-61ce4cd9fd08",
   "metadata": {},
   "outputs": [],
   "source": [
    "df = pd.read_csv('EURUSD1_trades.csv')"
   ]
  },
  {
   "cell_type": "code",
   "execution_count": 3,
   "id": "d2731100-f3b5-43bb-95a5-cf9cd1fcc97e",
   "metadata": {},
   "outputs": [
    {
     "data": {
      "text/html": [
       "<div>\n",
       "<style scoped>\n",
       "    .dataframe tbody tr th:only-of-type {\n",
       "        vertical-align: middle;\n",
       "    }\n",
       "\n",
       "    .dataframe tbody tr th {\n",
       "        vertical-align: top;\n",
       "    }\n",
       "\n",
       "    .dataframe thead th {\n",
       "        text-align: right;\n",
       "    }\n",
       "</style>\n",
       "<table border=\"1\" class=\"dataframe\">\n",
       "  <thead>\n",
       "    <tr style=\"text-align: right;\">\n",
       "      <th></th>\n",
       "      <th>ts_entry</th>\n",
       "      <th>ts_exit</th>\n",
       "      <th>direction</th>\n",
       "      <th>entry</th>\n",
       "      <th>stop</th>\n",
       "      <th>target</th>\n",
       "      <th>rr</th>\n",
       "      <th>outcome</th>\n",
       "      <th>bars_to_outcome</th>\n",
       "      <th>mfe</th>\n",
       "      <th>mae</th>\n",
       "      <th>r_result</th>\n",
       "      <th>balance_before</th>\n",
       "      <th>balance_after</th>\n",
       "      <th>cash_result</th>\n",
       "    </tr>\n",
       "  </thead>\n",
       "  <tbody>\n",
       "    <tr>\n",
       "      <th>0</th>\n",
       "      <td>2025-04-21 21:28:00</td>\n",
       "      <td>NaN</td>\n",
       "      <td>bearish</td>\n",
       "      <td>1.15074</td>\n",
       "      <td>1.15159</td>\n",
       "      <td>1.149720</td>\n",
       "      <td>1.2</td>\n",
       "      <td>timeout</td>\n",
       "      <td>NaN</td>\n",
       "      <td>0.364706</td>\n",
       "      <td>-0.776471</td>\n",
       "      <td>0.0</td>\n",
       "      <td>10000.0</td>\n",
       "      <td>10000.0</td>\n",
       "      <td>0.0</td>\n",
       "    </tr>\n",
       "    <tr>\n",
       "      <th>1</th>\n",
       "      <td>2025-04-21 23:08:00</td>\n",
       "      <td>NaN</td>\n",
       "      <td>bullish</td>\n",
       "      <td>1.15214</td>\n",
       "      <td>1.15076</td>\n",
       "      <td>1.153796</td>\n",
       "      <td>1.2</td>\n",
       "      <td>timeout</td>\n",
       "      <td>NaN</td>\n",
       "      <td>0.050725</td>\n",
       "      <td>-0.384058</td>\n",
       "      <td>0.0</td>\n",
       "      <td>10000.0</td>\n",
       "      <td>10000.0</td>\n",
       "      <td>0.0</td>\n",
       "    </tr>\n",
       "    <tr>\n",
       "      <th>2</th>\n",
       "      <td>2025-04-22 01:18:00</td>\n",
       "      <td>NaN</td>\n",
       "      <td>bearish</td>\n",
       "      <td>1.14881</td>\n",
       "      <td>1.15149</td>\n",
       "      <td>1.145594</td>\n",
       "      <td>1.2</td>\n",
       "      <td>timeout</td>\n",
       "      <td>NaN</td>\n",
       "      <td>0.097015</td>\n",
       "      <td>-0.376866</td>\n",
       "      <td>0.0</td>\n",
       "      <td>10000.0</td>\n",
       "      <td>10000.0</td>\n",
       "      <td>0.0</td>\n",
       "    </tr>\n",
       "    <tr>\n",
       "      <th>3</th>\n",
       "      <td>2025-04-22 01:28:00</td>\n",
       "      <td>NaN</td>\n",
       "      <td>bearish</td>\n",
       "      <td>1.14886</td>\n",
       "      <td>1.15118</td>\n",
       "      <td>1.146076</td>\n",
       "      <td>1.2</td>\n",
       "      <td>timeout</td>\n",
       "      <td>NaN</td>\n",
       "      <td>0.017241</td>\n",
       "      <td>-0.413793</td>\n",
       "      <td>0.0</td>\n",
       "      <td>10000.0</td>\n",
       "      <td>10000.0</td>\n",
       "      <td>0.0</td>\n",
       "    </tr>\n",
       "    <tr>\n",
       "      <th>4</th>\n",
       "      <td>2025-04-22 05:48:00</td>\n",
       "      <td>NaN</td>\n",
       "      <td>bullish</td>\n",
       "      <td>1.15439</td>\n",
       "      <td>1.15181</td>\n",
       "      <td>1.157486</td>\n",
       "      <td>1.2</td>\n",
       "      <td>timeout</td>\n",
       "      <td>NaN</td>\n",
       "      <td>0.065891</td>\n",
       "      <td>-0.453488</td>\n",
       "      <td>0.0</td>\n",
       "      <td>10000.0</td>\n",
       "      <td>10000.0</td>\n",
       "      <td>0.0</td>\n",
       "    </tr>\n",
       "  </tbody>\n",
       "</table>\n",
       "</div>"
      ],
      "text/plain": [
       "              ts_entry ts_exit direction    entry     stop    target   rr  \\\n",
       "0  2025-04-21 21:28:00     NaN   bearish  1.15074  1.15159  1.149720  1.2   \n",
       "1  2025-04-21 23:08:00     NaN   bullish  1.15214  1.15076  1.153796  1.2   \n",
       "2  2025-04-22 01:18:00     NaN   bearish  1.14881  1.15149  1.145594  1.2   \n",
       "3  2025-04-22 01:28:00     NaN   bearish  1.14886  1.15118  1.146076  1.2   \n",
       "4  2025-04-22 05:48:00     NaN   bullish  1.15439  1.15181  1.157486  1.2   \n",
       "\n",
       "   outcome  bars_to_outcome       mfe       mae  r_result  balance_before  \\\n",
       "0  timeout              NaN  0.364706 -0.776471       0.0         10000.0   \n",
       "1  timeout              NaN  0.050725 -0.384058       0.0         10000.0   \n",
       "2  timeout              NaN  0.097015 -0.376866       0.0         10000.0   \n",
       "3  timeout              NaN  0.017241 -0.413793       0.0         10000.0   \n",
       "4  timeout              NaN  0.065891 -0.453488       0.0         10000.0   \n",
       "\n",
       "   balance_after  cash_result  \n",
       "0        10000.0          0.0  \n",
       "1        10000.0          0.0  \n",
       "2        10000.0          0.0  \n",
       "3        10000.0          0.0  \n",
       "4        10000.0          0.0  "
      ]
     },
     "execution_count": 3,
     "metadata": {},
     "output_type": "execute_result"
    }
   ],
   "source": [
    "df.head()"
   ]
  },
  {
   "cell_type": "code",
   "execution_count": 1,
   "id": "bc754a4b",
   "metadata": {},
   "outputs": [
    {
     "name": "stdout",
     "output_type": "stream",
     "text": [
      "Total trades: 500 | Wins: 28 | Losses: 45 | Timeouts: 427\n"
     ]
    },
    {
     "data": {
      "text/html": [
       "<div>\n",
       "<style scoped>\n",
       "    .dataframe tbody tr th:only-of-type {\n",
       "        vertical-align: middle;\n",
       "    }\n",
       "\n",
       "    .dataframe tbody tr th {\n",
       "        vertical-align: top;\n",
       "    }\n",
       "\n",
       "    .dataframe thead th {\n",
       "        text-align: right;\n",
       "    }\n",
       "</style>\n",
       "<table border=\"1\" class=\"dataframe\">\n",
       "  <thead>\n",
       "    <tr style=\"text-align: right;\">\n",
       "      <th></th>\n",
       "      <th>ts_entry</th>\n",
       "      <th>ts_exit</th>\n",
       "      <th>direction</th>\n",
       "      <th>entry</th>\n",
       "      <th>stop</th>\n",
       "      <th>target</th>\n",
       "      <th>rr</th>\n",
       "      <th>outcome</th>\n",
       "      <th>bars_to_outcome</th>\n",
       "      <th>mfe</th>\n",
       "      <th>mae</th>\n",
       "      <th>r_result</th>\n",
       "      <th>balance_before</th>\n",
       "      <th>balance_after</th>\n",
       "      <th>cash_result</th>\n",
       "      <th>hour</th>\n",
       "      <th>dow</th>\n",
       "      <th>is_win</th>\n",
       "      <th>is_loss</th>\n",
       "      <th>is_timeout</th>\n",
       "    </tr>\n",
       "  </thead>\n",
       "  <tbody>\n",
       "    <tr>\n",
       "      <th>0</th>\n",
       "      <td>2025-04-21 21:28:00</td>\n",
       "      <td>NaT</td>\n",
       "      <td>bearish</td>\n",
       "      <td>1.15074</td>\n",
       "      <td>1.15159</td>\n",
       "      <td>1.149720</td>\n",
       "      <td>1.2</td>\n",
       "      <td>timeout</td>\n",
       "      <td>NaN</td>\n",
       "      <td>0.364706</td>\n",
       "      <td>-0.776471</td>\n",
       "      <td>0.0</td>\n",
       "      <td>10000.0</td>\n",
       "      <td>10000.0</td>\n",
       "      <td>0.0</td>\n",
       "      <td>21</td>\n",
       "      <td>0</td>\n",
       "      <td>0</td>\n",
       "      <td>0</td>\n",
       "      <td>1</td>\n",
       "    </tr>\n",
       "    <tr>\n",
       "      <th>1</th>\n",
       "      <td>2025-04-21 23:08:00</td>\n",
       "      <td>NaT</td>\n",
       "      <td>bullish</td>\n",
       "      <td>1.15214</td>\n",
       "      <td>1.15076</td>\n",
       "      <td>1.153796</td>\n",
       "      <td>1.2</td>\n",
       "      <td>timeout</td>\n",
       "      <td>NaN</td>\n",
       "      <td>0.050725</td>\n",
       "      <td>-0.384058</td>\n",
       "      <td>0.0</td>\n",
       "      <td>10000.0</td>\n",
       "      <td>10000.0</td>\n",
       "      <td>0.0</td>\n",
       "      <td>23</td>\n",
       "      <td>0</td>\n",
       "      <td>0</td>\n",
       "      <td>0</td>\n",
       "      <td>1</td>\n",
       "    </tr>\n",
       "    <tr>\n",
       "      <th>2</th>\n",
       "      <td>2025-04-22 01:18:00</td>\n",
       "      <td>NaT</td>\n",
       "      <td>bearish</td>\n",
       "      <td>1.14881</td>\n",
       "      <td>1.15149</td>\n",
       "      <td>1.145594</td>\n",
       "      <td>1.2</td>\n",
       "      <td>timeout</td>\n",
       "      <td>NaN</td>\n",
       "      <td>0.097015</td>\n",
       "      <td>-0.376866</td>\n",
       "      <td>0.0</td>\n",
       "      <td>10000.0</td>\n",
       "      <td>10000.0</td>\n",
       "      <td>0.0</td>\n",
       "      <td>1</td>\n",
       "      <td>1</td>\n",
       "      <td>0</td>\n",
       "      <td>0</td>\n",
       "      <td>1</td>\n",
       "    </tr>\n",
       "    <tr>\n",
       "      <th>3</th>\n",
       "      <td>2025-04-22 01:28:00</td>\n",
       "      <td>NaT</td>\n",
       "      <td>bearish</td>\n",
       "      <td>1.14886</td>\n",
       "      <td>1.15118</td>\n",
       "      <td>1.146076</td>\n",
       "      <td>1.2</td>\n",
       "      <td>timeout</td>\n",
       "      <td>NaN</td>\n",
       "      <td>0.017241</td>\n",
       "      <td>-0.413793</td>\n",
       "      <td>0.0</td>\n",
       "      <td>10000.0</td>\n",
       "      <td>10000.0</td>\n",
       "      <td>0.0</td>\n",
       "      <td>1</td>\n",
       "      <td>1</td>\n",
       "      <td>0</td>\n",
       "      <td>0</td>\n",
       "      <td>1</td>\n",
       "    </tr>\n",
       "    <tr>\n",
       "      <th>4</th>\n",
       "      <td>2025-04-22 05:48:00</td>\n",
       "      <td>NaT</td>\n",
       "      <td>bullish</td>\n",
       "      <td>1.15439</td>\n",
       "      <td>1.15181</td>\n",
       "      <td>1.157486</td>\n",
       "      <td>1.2</td>\n",
       "      <td>timeout</td>\n",
       "      <td>NaN</td>\n",
       "      <td>0.065891</td>\n",
       "      <td>-0.453488</td>\n",
       "      <td>0.0</td>\n",
       "      <td>10000.0</td>\n",
       "      <td>10000.0</td>\n",
       "      <td>0.0</td>\n",
       "      <td>5</td>\n",
       "      <td>1</td>\n",
       "      <td>0</td>\n",
       "      <td>0</td>\n",
       "      <td>1</td>\n",
       "    </tr>\n",
       "  </tbody>\n",
       "</table>\n",
       "</div>"
      ],
      "text/plain": [
       "             ts_entry ts_exit direction    entry     stop    target   rr  \\\n",
       "0 2025-04-21 21:28:00     NaT   bearish  1.15074  1.15159  1.149720  1.2   \n",
       "1 2025-04-21 23:08:00     NaT   bullish  1.15214  1.15076  1.153796  1.2   \n",
       "2 2025-04-22 01:18:00     NaT   bearish  1.14881  1.15149  1.145594  1.2   \n",
       "3 2025-04-22 01:28:00     NaT   bearish  1.14886  1.15118  1.146076  1.2   \n",
       "4 2025-04-22 05:48:00     NaT   bullish  1.15439  1.15181  1.157486  1.2   \n",
       "\n",
       "   outcome  bars_to_outcome       mfe       mae  r_result  balance_before  \\\n",
       "0  timeout              NaN  0.364706 -0.776471       0.0         10000.0   \n",
       "1  timeout              NaN  0.050725 -0.384058       0.0         10000.0   \n",
       "2  timeout              NaN  0.097015 -0.376866       0.0         10000.0   \n",
       "3  timeout              NaN  0.017241 -0.413793       0.0         10000.0   \n",
       "4  timeout              NaN  0.065891 -0.453488       0.0         10000.0   \n",
       "\n",
       "   balance_after  cash_result  hour  dow  is_win  is_loss  is_timeout  \n",
       "0        10000.0          0.0    21    0       0        0           1  \n",
       "1        10000.0          0.0    23    0       0        0           1  \n",
       "2        10000.0          0.0     1    1       0        0           1  \n",
       "3        10000.0          0.0     1    1       0        0           1  \n",
       "4        10000.0          0.0     5    1       0        0           1  "
      ]
     },
     "execution_count": 1,
     "metadata": {},
     "output_type": "execute_result"
    }
   ],
   "source": [
    "# Load trades with robust parsing\n",
    "import pandas as pd, numpy as np\n",
    "from pathlib import Path\n",
    "\n",
    "csv_path = Path('backtest/results/EURUSD1_trades.csv')\n",
    "if not csv_path.exists():\n",
    "    # fallback if run from inside results folder\n",
    "    alt = Path('EURUSD1_trades.csv')\n",
    "    if alt.exists():\n",
    "        csv_path = alt\n",
    "\n",
    "# Try reading; skip malformed lines\n",
    "try:\n",
    "    df = pd.read_csv(csv_path, parse_dates=['ts_entry','ts_exit'], on_bad_lines='skip')\n",
    "except Exception as e:\n",
    "    print('Primary read failed, retrying without date parse:', e)\n",
    "    df = pd.read_csv(csv_path, on_bad_lines='skip')\n",
    "    # Convert manually if present\n",
    "    for c in ['ts_entry','ts_exit']:\n",
    "        if c in df.columns:\n",
    "            df[c] = pd.to_datetime(df[c], errors='coerce')\n",
    "\n",
    "expected_cols = {'ts_entry','outcome'}\n",
    "missing = expected_cols - set(df.columns)\n",
    "if missing:\n",
    "    raise ValueError(f'Missing required columns: {missing}. Available: {df.columns.tolist()}')\n",
    "\n",
    "# Filter out rows without entry time\n",
    "df = df[df.ts_entry.notna()].copy()\n",
    "\n",
    "# Time features\n",
    "df['hour'] = df.ts_entry.dt.hour\n",
    "df['dow'] = df.ts_entry.dt.dayofweek  # 0=Mon\n",
    "\n",
    "# Outcome flags\n",
    "df['is_win'] = (df.outcome == 'win').astype(int)\n",
    "df['is_loss'] = (df.outcome == 'loss').astype(int)\n",
    "df['is_timeout'] = (df.outcome == 'timeout').astype(int)\n",
    "\n",
    "print('Total trades:', len(df), '| Wins:', df.is_win.sum(), '| Losses:', df.is_loss.sum(), '| Timeouts:', df.is_timeout.sum())\n",
    "df.head()"
   ]
  },
  {
   "cell_type": "code",
   "execution_count": 5,
   "id": "a7a1f51d",
   "metadata": {},
   "outputs": [
    {
     "data": {
      "text/plain": [
       "<Figure size 1200x400 with 0 Axes>"
      ]
     },
     "metadata": {},
     "output_type": "display_data"
    },
    {
     "data": {
      "image/png": "[encoded data removed]",
      "text/plain": [
       "<Figure size 1400x500 with 1 Axes>"
      ]
     },
     "metadata": {},
     "output_type": "display_data"
    },
    {
     "data": {
      "image/png": "[encoded data removed]",
      "text/plain": [
       "<Figure size 1000x300 with 1 Axes>"
      ]
     },
     "metadata": {},
     "output_type": "display_data"
    },
    {
     "data": {
      "image/png": "[encoded data removed]",
      "text/plain": [
       "<Figure size 1400x500 with 2 Axes>"
      ]
     },
     "metadata": {},
     "output_type": "display_data"
    }
   ],
   "source": [
    "import matplotlib.pyplot as plt\n",
    "import seaborn as sns\n",
    "\n",
    "# Aggregate wins / losses per hour\n",
    "hour_stats = df.groupby('hour').agg(wins=('is_win','sum'), losses=('is_loss','sum'), timeouts=('is_timeout','sum'), total=('outcome','count'))\n",
    "# Win rate per hour (avoid div by zero)\n",
    "hour_stats['win_rate'] = (hour_stats['wins'] / hour_stats['total']).fillna(0)\n",
    "\n",
    "plt.figure(figsize=(12,4))\n",
    "ax = hour_stats[['wins','losses','timeouts']].plot(kind='bar', stacked=False, figsize=(14,5))\n",
    "plt.title('Trade Outcomes per Hour (UTC)')\n",
    "plt.xlabel('Hour of Day')\n",
    "plt.ylabel('Count')\n",
    "plt.grid(alpha=0.3)\n",
    "plt.tight_layout()\n",
    "plt.show()\n",
    "\n",
    "plt.figure(figsize=(10,3))\n",
    "plt.plot(hour_stats.index, hour_stats.win_rate, marker='o')\n",
    "plt.title('Win Rate by Hour')\n",
    "plt.xlabel('Hour')\n",
    "plt.ylabel('Win Rate')\n",
    "plt.ylim(0,1)\n",
    "plt.grid(alpha=0.3)\n",
    "plt.tight_layout()\n",
    "plt.show()\n",
    "\n",
    "# Heatmap Day-of-week vs Hour\n",
    "pivot = df.pivot_table(values='is_win', index='dow', columns='hour', aggfunc=['sum','count'])\n",
    "# pivot is multiindex columns; compute win rate\n",
    "win_counts = pivot['sum']\n",
    "trade_counts = pivot['count']\n",
    "win_rate_matrix = (win_counts / trade_counts).fillna(0)\n",
    "\n",
    "plt.figure(figsize=(14,5))\n",
    "sns.heatmap(win_rate_matrix, annot=True, fmt='.2f', cmap='Greens', cbar_kws={'label':'Win Rate'})\n",
    "plt.title('Win Rate Heatmap (Day-of-Week vs Hour)')\n",
    "plt.ylabel('Day of Week (0=Mon)')\n",
    "plt.xlabel('Hour')\n",
    "plt.tight_layout()\n",
    "plt.show()"
   ]
  },
  {
   "cell_type": "code",
   "execution_count": 9,
   "id": "414759f4",
   "metadata": {},
   "outputs": [
    {
     "data": {
      "application/vnd.plotly.v1+json": {
       "config": {
        "plotlyServerURL": "https://plot.ly"
       },
       "data": [
        {
         "customdata": [
          [
           "bearish",
           "timeout"
          ],
          [
           "bullish",
           "timeout"
          ],
          [
           "bearish",
           "timeout"
          ],
          [
           "bearish",
           "timeout"
          ],
          [
           "bullish",
           "timeout"
          ],
          [
           "bearish",
           "timeout"
          ],
          [
           "bearish",
           "timeout"
          ],
          [
           "bearish",
           "timeout"
          ],
          [
           "bearish",
           "timeout"
          ],
          [
           "bearish",
           "timeout"
          ],
          [
           "bearish",
           "timeout"
          ],
          [
           "bearish",
           "timeout"
          ],
          [
           "bearish",
           "timeout"
          ],
          [
           "bullish",
           "timeout"
          ],
          [
           "bearish",
           "timeout"
          ],
          [
           "bearish",
           "timeout"
          ],
          [
           "bearish",
           "timeout"
          ],
          [
           "bearish",
           "timeout"
          ],
          [
           "bearish",
           "timeout"
          ],
          [
           "bearish",
           "timeout"
          ],
          [
           "bullish",
           "timeout"
          ],
          [
           "bullish",
           "timeout"
          ],
          [
           "bullish",
           "timeout"
          ],
          [
           "bullish",
           "timeout"
          ],
          [
           "bullish",
           "timeout"
          ],
          [
           "bullish",
           "timeout"
          ],
          [
           "bearish",
           "timeout"
          ],
          [
           "bullish",
           "timeout"
          ],
          [
           "bullish",
           "timeout"
          ],
          [
           "bullish",
           "timeout"
          ],
          [
           "bullish",
           "timeout"
          ],
          [
           "bullish",
           "timeout"
          ],
          [
           "bearish",
           "timeout"
          ],
          [
           "bullish",
           "timeout"
          ],
          [
           "bullish",
           "timeout"
          ],
          [
           "bullish",
           "timeout"
          ],
          [
           "bullish",
           "timeout"
          ],
          [
           "bearish",
           "timeout"
          ],
          [
           "bullish",
           "timeout"
          ],
          [
           "bullish",
           "timeout"
          ],
          [
           "bearish",
           "timeout"
          ],
          [
           "bearish",
           "timeout"
          ],
          [
           "bearish",
           "timeout"
          ],
          [
           "bearish",
           "timeout"
          ],
          [
           "bearish",
           "timeout"
          ],
          [
           "bearish",
           "timeout"
          ],
          [
           "bearish",
           "timeout"
          ],
          [
           "bullish",
           "timeout"
          ],
          [
           "bullish",
           "timeout"
          ],
          [
           "bearish",
           "timeout"
          ],
          [
           "bullish",
           "timeout"
          ],
          [
           "bullish",
           "timeout"
          ],
          [
           "bullish",
           "timeout"
          ],
          [
           "bullish",
           "timeout"
          ],
          [
           "bearish",
           "timeout"
          ],
          [
           "bearish",
           "timeout"
          ],
          [
           "bearish",
           "timeout"
          ],
          [
           "bullish",
           "timeout"
          ],
          [
           "bullish",
           "timeout"
          ],
          [
           "bullish",
           "timeout"
          ],
          [
           "bearish",
           "timeout"
          ],
          [
           "bearish",
           "timeout"
          ],
          [
           "bullish",
           "timeout"
          ],
          [
           "bullish",
           "timeout"
          ],
          [
           "bullish",
           "timeout"
          ],
          [
           "bearish",
           "timeout"
          ],
          [
           "bearish",
           "timeout"
          ],
          [
           "bearish",
           "timeout"
          ],
          [
           "bearish",
           "timeout"
          ],
          [
           "bullish",
           "timeout"
          ],
          [
           "bullish",
           "timeout"
          ],
          [
           "bearish",
           "timeout"
          ],
          [
           "bullish",
           "timeout"
          ],
          [
           "bullish",
           "timeout"
          ],
          [
           "bullish",
           "timeout"
          ],
          [
           "bearish",
           "timeout"
          ],
          [
           "bearish",
           "timeout"
          ],
          [
           "bullish",
           "timeout"
          ],
          [
           "bullish",
           "timeout"
          ],
          [
           "bullish",
           "timeout"
          ],
          [
           "bearish",
           "timeout"
          ],
          [
           "bearish",
           "timeout"
          ],
          [
           "bullish",
           "timeout"
          ],
          [
           "bullish",
           "timeout"
          ],
          [
           "bullish",
           "timeout"
          ],
          [
           "bullish",
           "timeout"
          ],
          [
           "bullish",
           "timeout"
          ],
          [
           "bullish",
           "timeout"
          ],
          [
           "bearish",
           "timeout"
          ],
          [
           "bearish",
           "timeout"
          ],
          [
           "bearish",
           "timeout"
          ],
          [
           "bullish",
           "timeout"
          ],
          [
           "bullish",
           "timeout"
          ],
          [
           "bullish",
           "timeout"
          ],
          [
           "bearish",
           "timeout"
          ],
          [
           "bullish",
           "timeout"
          ],
          [
           "bullish",
           "timeout"
          ],
          [
           "bullish",
           "timeout"
          ],
          [
           "bearish",
           "timeout"
          ],
          [
           "bullish",
           "timeout"
          ],
          [
           "bearish",
           "timeout"
          ],
          [
           "bearish",
           "timeout"
          ],
          [
           "bullish",
           "timeout"
          ],
          [
           "bearish",
           "timeout"
          ],
          [
           "bullish",
           "timeout"
          ],
          [
           "bullish",
           "timeout"
          ],
          [
           "bullish",
           "timeout"
          ],
          [
           "bullish",
           "timeout"
          ],
          [
           "bullish",
           "timeout"
          ],
          [
           "bearish",
           "timeout"
          ],
          [
           "bearish",
           "timeout"
          ],
          [
           "bullish",
           "timeout"
          ],
          [
           "bullish",
           "timeout"
          ],
          [
           "bearish",
           "timeout"
          ],
          [
           "bullish",
           "timeout"
          ],
          [
           "bearish",
           "timeout"
          ],
          [
           "bullish",
           "timeout"
          ],
          [
           "bearish",
           "timeout"
          ],
          [
           "bullish",
           "timeout"
          ],
          [
           "bullish",
           "timeout"
          ],
          [
           "bullish",
           "timeout"
          ],
          [
           "bullish",
           "timeout"
          ],
          [
           "bearish",
           "timeout"
          ],
          [
           "bearish",
           "timeout"
          ],
          [
           "bearish",
           "timeout"
          ],
          [
           "bearish",
           "timeout"
          ],
          [
           "bearish",
           "timeout"
          ],
          [
           "bullish",
           "timeout"
          ],
          [
           "bullish",
           "timeout"
          ],
          [
           "bullish",
           "timeout"
          ],
          [
           "bearish",
           "timeout"
          ],
          [
           "bearish",
           "timeout"
          ],
          [
           "bearish",
           "timeout"
          ],
          [
           "bearish",
           "timeout"
          ],
          [
           "bearish",
           "timeout"
          ],
          [
           "bearish",
           "timeout"
          ],
          [
           "bullish",
           "timeout"
          ],
          [
           "bearish",
           "timeout"
          ],
          [
           "bearish",
           "timeout"
          ],
          [
           "bearish",
           "timeout"
          ],
          [
           "bullish",
           "timeout"
          ],
          [
           "bullish",
           "timeout"
          ],
          [
           "bullish",
           "timeout"
          ],
          [
           "bullish",
           "timeout"
          ],
          [
           "bullish",
           "timeout"
          ],
          [
           "bullish",
           "timeout"
          ],
          [
           "bearish",
           "timeout"
          ],
          [
           "bullish",
           "timeout"
          ],
          [
           "bullish",
           "timeout"
          ],
          [
           "bullish",
           "timeout"
          ],
          [
           "bearish",
           "timeout"
          ],
          [
           "bullish",
           "timeout"
          ],
          [
           "bearish",
           "timeout"
          ],
          [
           "bullish",
           "timeout"
          ],
          [
           "bullish",
           "timeout"
          ],
          [
           "bearish",
           "timeout"
          ],
          [
           "bearish",
           "timeout"
          ],
          [
           "bearish",
           "timeout"
          ],
          [
           "bullish",
           "timeout"
          ],
          [
           "bearish",
           "timeout"
          ],
          [
           "bearish",
           "timeout"
          ],
          [
           "bearish",
           "timeout"
          ],
          [
           "bearish",
           "timeout"
          ],
          [
           "bearish",
           "timeout"
          ],
          [
           "bearish",
           "timeout"
          ],
          [
           "bullish",
           "timeout"
          ],
          [
           "bullish",
           "timeout"
          ],
          [
           "bullish",
           "timeout"
          ],
          [
           "bullish",
           "timeout"
          ],
          [
           "bullish",
           "timeout"
          ],
          [
           "bullish",
           "timeout"
          ],
          [
           "bullish",
           "timeout"
          ],
          [
           "bullish",
           "timeout"
          ],
          [
           "bullish",
           "timeout"
          ],
          [
           "bullish",
           "timeout"
          ],
          [
           "bullish",
           "timeout"
          ],
          [
           "bearish",
           "timeout"
          ],
          [
           "bearish",
           "timeout"
          ],
          [
           "bearish",
           "timeout"
          ],
          [
           "bullish",
           "timeout"
          ],
          [
           "bearish",
           "timeout"
          ],
          [
           "bearish",
           "timeout"
          ],
          [
           "bearish",
           "timeout"
          ],
          [
           "bearish",
           "timeout"
          ],
          [
           "bullish",
           "timeout"
          ],
          [
           "bearish",
           "timeout"
          ],
          [
           "bearish",
           "timeout"
          ],
          [
           "bearish",
           "timeout"
          ],
          [
           "bullish",
           "timeout"
          ],
          [
           "bullish",
           "timeout"
          ],
          [
           "bullish",
           "timeout"
          ],
          [
           "bullish",
           "timeout"
          ],
          [
           "bullish",
           "timeout"
          ],
          [
           "bullish",
           "timeout"
          ],
          [
           "bearish",
           "timeout"
          ],
          [
           "bullish",
           "timeout"
          ],
          [
           "bullish",
           "timeout"
          ],
          [
           "bullish",
           "timeout"
          ],
          [
           "bullish",
           "timeout"
          ],
          [
           "bullish",
           "timeout"
          ],
          [
           "bullish",
           "timeout"
          ],
          [
           "bullish",
           "timeout"
          ],
          [
           "bullish",
           "timeout"
          ],
          [
           "bullish",
           "timeout"
          ],
          [
           "bullish",
           "timeout"
          ],
          [
           "bullish",
           "timeout"
          ],
          [
           "bullish",
           "timeout"
          ],
          [
           "bearish",
           "timeout"
          ],
          [
           "bearish",
           "timeout"
          ],
          [
           "bearish",
           "timeout"
          ],
          [
           "bullish",
           "timeout"
          ],
          [
           "bullish",
           "timeout"
          ],
          [
           "bearish",
           "timeout"
          ],
          [
           "bullish",
           "timeout"
          ],
          [
           "bearish",
           "timeout"
          ],
          [
           "bullish",
           "timeout"
          ],
          [
           "bearish",
           "timeout"
          ],
          [
           "bullish",
           "timeout"
          ],
          [
           "bullish",
           "timeout"
          ],
          [
           "bearish",
           "timeout"
          ],
          [
           "bearish",
           "timeout"
          ],
          [
           "bearish",
           "timeout"
          ],
          [
           "bullish",
           "timeout"
          ],
          [
           "bearish",
           "timeout"
          ],
          [
           "bearish",
           "timeout"
          ],
          [
           "bullish",
           "timeout"
          ],
          [
           "bullish",
           "timeout"
          ],
          [
           "bullish",
           "timeout"
          ],
          [
           "bearish",
           "timeout"
          ],
          [
           "bearish",
           "timeout"
          ],
          [
           "bearish",
           "timeout"
          ],
          [
           "bullish",
           "timeout"
          ],
          [
           "bearish",
           "timeout"
          ],
          [
           "bullish",
           "timeout"
          ],
          [
           "bearish",
           "timeout"
          ],
          [
           "bearish",
           "timeout"
          ],
          [
           "bearish",
           "timeout"
          ],
          [
           "bearish",
           "timeout"
          ],
          [
           "bullish",
           "timeout"
          ],
          [
           "bullish",
           "timeout"
          ],
          [
           "bearish",
           "timeout"
          ],
          [
           "bearish",
           "timeout"
          ],
          [
           "bearish",
           "timeout"
          ],
          [
           "bearish",
           "timeout"
          ],
          [
           "bullish",
           "timeout"
          ],
          [
           "bullish",
           "timeout"
          ],
          [
           "bearish",
           "timeout"
          ],
          [
           "bullish",
           "timeout"
          ],
          [
           "bullish",
           "timeout"
          ],
          [
           "bearish",
           "timeout"
          ],
          [
           "bearish",
           "timeout"
          ],
          [
           "bullish",
           "timeout"
          ],
          [
           "bullish",
           "timeout"
          ],
          [
           "bearish",
           "timeout"
          ],
          [
           "bearish",
           "timeout"
          ],
          [
           "bullish",
           "timeout"
          ],
          [
           "bullish",
           "timeout"
          ],
          [
           "bullish",
           "timeout"
          ],
          [
           "bearish",
           "timeout"
          ],
          [
           "bullish",
           "timeout"
          ],
          [
           "bullish",
           "timeout"
          ],
          [
           "bullish",
           "timeout"
          ],
          [
           "bullish",
           "timeout"
          ],
          [
           "bullish",
           "timeout"
          ],
          [
           "bullish",
           "timeout"
          ],
          [
           "bullish",
           "timeout"
          ],
          [
           "bearish",
           "timeout"
          ],
          [
           "bearish",
           "timeout"
          ],
          [
           "bearish",
           "timeout"
          ],
          [
           "bullish",
           "timeout"
          ],
          [
           "bearish",
           "timeout"
          ],
          [
           "bullish",
           "timeout"
          ],
          [
           "bearish",
           "timeout"
          ],
          [
           "bullish",
           "timeout"
          ],
          [
           "bullish",
           "timeout"
          ],
          [
           "bullish",
           "timeout"
          ],
          [
           "bearish",
           "timeout"
          ],
          [
           "bearish",
           "timeout"
          ],
          [
           "bearish",
           "timeout"
          ],
          [
           "bullish",
           "timeout"
          ],
          [
           "bullish",
           "timeout"
          ],
          [
           "bullish",
           "timeout"
          ],
          [
           "bullish",
           "timeout"
          ],
          [
           "bullish",
           "timeout"
          ],
          [
           "bullish",
           "timeout"
          ],
          [
           "bearish",
           "timeout"
          ],
          [
           "bearish",
           "timeout"
          ],
          [
           "bearish",
           "timeout"
          ],
          [
           "bullish",
           "timeout"
          ],
          [
           "bullish",
           "timeout"
          ],
          [
           "bullish",
           "timeout"
          ],
          [
           "bearish",
           "timeout"
          ],
          [
           "bearish",
           "timeout"
          ],
          [
           "bearish",
           "timeout"
          ],
          [
           "bearish",
           "timeout"
          ],
          [
           "bullish",
           "timeout"
          ],
          [
           "bullish",
           "timeout"
          ],
          [
           "bearish",
           "timeout"
          ],
          [
           "bearish",
           "timeout"
          ],
          [
           "bearish",
           "timeout"
          ],
          [
           "bearish",
           "timeout"
          ],
          [
           "bearish",
           "timeout"
          ],
          [
           "bullish",
           "timeout"
          ],
          [
           "bullish",
           "timeout"
          ],
          [
           "bullish",
           "timeout"
          ],
          [
           "bullish",
           "timeout"
          ],
          [
           "bullish",
           "timeout"
          ],
          [
           "bearish",
           "timeout"
          ],
          [
           "bullish",
           "timeout"
          ],
          [
           "bullish",
           "timeout"
          ],
          [
           "bullish",
           "timeout"
          ],
          [
           "bearish",
           "timeout"
          ],
          [
           "bearish",
           "timeout"
          ],
          [
           "bullish",
           "timeout"
          ],
          [
           "bearish",
           "timeout"
          ],
          [
           "bearish",
           "timeout"
          ],
          [
           "bearish",
           "timeout"
          ],
          [
           "bearish",
           "timeout"
          ],
          [
           "bearish",
           "timeout"
          ],
          [
           "bearish",
           "timeout"
          ],
          [
           "bearish",
           "timeout"
          ],
          [
           "bullish",
           "timeout"
          ],
          [
           "bullish",
           "timeout"
          ],
          [
           "bullish",
           "timeout"
          ],
          [
           "bearish",
           "timeout"
          ],
          [
           "bearish",
           "timeout"
          ],
          [
           "bullish",
           "timeout"
          ],
          [
           "bullish",
           "timeout"
          ],
          [
           "bearish",
           "timeout"
          ],
          [
           "bullish",
           "timeout"
          ],
          [
           "bearish",
           "timeout"
          ],
          [
           "bullish",
           "timeout"
          ],
          [
           "bearish",
           "timeout"
          ],
          [
           "bearish",
           "timeout"
          ],
          [
           "bearish",
           "timeout"
          ],
          [
           "bearish",
           "timeout"
          ],
          [
           "bullish",
           "timeout"
          ],
          [
           "bullish",
           "timeout"
          ],
          [
           "bearish",
           "timeout"
          ],
          [
           "bearish",
           "timeout"
          ],
          [
           "bearish",
           "timeout"
          ],
          [
           "bearish",
           "timeout"
          ],
          [
           "bearish",
           "timeout"
          ],
          [
           "bullish",
           "timeout"
          ],
          [
           "bullish",
           "timeout"
          ],
          [
           "bullish",
           "timeout"
          ],
          [
           "bullish",
           "timeout"
          ],
          [
           "bearish",
           "timeout"
          ],
          [
           "bearish",
           "timeout"
          ],
          [
           "bearish",
           "timeout"
          ],
          [
           "bearish",
           "timeout"
          ],
          [
           "bearish",
           "timeout"
          ],
          [
           "bullish",
           "timeout"
          ],
          [
           "bullish",
           "timeout"
          ],
          [
           "bearish",
           "timeout"
          ],
          [
           "bearish",
           "timeout"
          ],
          [
           "bearish",
           "timeout"
          ],
          [
           "bearish",
           "timeout"
          ],
          [
           "bearish",
           "timeout"
          ],
          [
           "bullish",
           "timeout"
          ],
          [
           "bullish",
           "timeout"
          ],
          [
           "bullish",
           "timeout"
          ],
          [
           "bullish",
           "timeout"
          ],
          [
           "bullish",
           "timeout"
          ],
          [
           "bearish",
           "timeout"
          ],
          [
           "bearish",
           "timeout"
          ],
          [
           "bearish",
           "timeout"
          ],
          [
           "bullish",
           "timeout"
          ],
          [
           "bullish",
           "timeout"
          ],
          [
           "bullish",
           "timeout"
          ],
          [
           "bearish",
           "timeout"
          ],
          [
           "bullish",
           "timeout"
          ],
          [
           "bullish",
           "timeout"
          ],
          [
           "bullish",
           "timeout"
          ],
          [
           "bullish",
           "timeout"
          ],
          [
           "bullish",
           "timeout"
          ],
          [
           "bullish",
           "timeout"
          ],
          [
           "bullish",
           "timeout"
          ],
          [
           "bullish",
           "timeout"
          ],
          [
           "bullish",
           "timeout"
          ],
          [
           "bearish",
           "timeout"
          ],
          [
           "bearish",
           "timeout"
          ],
          [
           "bearish",
           "timeout"
          ],
          [
           "bullish",
           "timeout"
          ],
          [
           "bullish",
           "timeout"
          ],
          [
           "bearish",
           "timeout"
          ],
          [
           "bearish",
           "timeout"
          ],
          [
           "bearish",
           "timeout"
          ],
          [
           "bearish",
           "timeout"
          ],
          [
           "bearish",
           "timeout"
          ],
          [
           "bearish",
           "timeout"
          ],
          [
           "bearish",
           "timeout"
          ],
          [
           "bearish",
           "timeout"
          ],
          [
           "bearish",
           "timeout"
          ],
          [
           "bullish",
           "timeout"
          ],
          [
           "bearish",
           "timeout"
          ],
          [
           "bullish",
           "timeout"
          ],
          [
           "bearish",
           "timeout"
          ],
          [
           "bullish",
           "timeout"
          ],
          [
           "bullish",
           "timeout"
          ],
          [
           "bearish",
           "timeout"
          ],
          [
           "bearish",
           "timeout"
          ],
          [
           "bullish",
           "timeout"
          ],
          [
           "bullish",
           "timeout"
          ],
          [
           "bearish",
           "timeout"
          ],
          [
           "bearish",
           "timeout"
          ],
          [
           "bearish",
           "timeout"
          ],
          [
           "bullish",
           "timeout"
          ],
          [
           "bearish",
           "timeout"
          ],
          [
           "bullish",
           "timeout"
          ],
          [
           "bullish",
           "timeout"
          ],
          [
           "bearish",
           "timeout"
          ],
          [
           "bearish",
           "timeout"
          ],
          [
           "bullish",
           "timeout"
          ],
          [
           "bullish",
           "timeout"
          ],
          [
           "bullish",
           "timeout"
          ],
          [
           "bearish",
           "timeout"
          ],
          [
           "bullish",
           "timeout"
          ],
          [
           "bullish",
           "timeout"
          ],
          [
           "bullish",
           "timeout"
          ],
          [
           "bullish",
           "timeout"
          ],
          [
           "bullish",
           "timeout"
          ],
          [
           "bearish",
           "timeout"
          ],
          [
           "bearish",
           "timeout"
          ],
          [
           "bearish",
           "timeout"
          ],
          [
           "bullish",
           "timeout"
          ],
          [
           "bullish",
           "timeout"
          ]
         ],
         "hovertemplate": "outcome=%{customdata[1]}<br>ts_entry=%{x}<br>hour=%{y}<br>direction=%{customdata[0]}<extra></extra>",
         "legendgroup": "timeout",
         "marker": {
          "color": "#636efa",
          "opacity": 0.7,
          "size": 8,
          "symbol": "circle"
         },
         "mode": "markers",
         "name": "timeout",
         "orientation": "v",
         "showlegend": true,
         "type": "scatter",
         "x": [
          "2025-04-21T21:28:00.000000000",
          "2025-04-21T23:08:00.000000000",
          "2025-04-22T01:18:00.000000000",
          "2025-04-22T01:28:00.000000000",
          "2025-04-22T05:48:00.000000000",
          "2025-04-22T09:28:00.000000000",
          "2025-04-22T10:48:00.000000000",
          "2025-04-22T10:58:00.000000000",
          "2025-04-22T11:28:00.000000000",
          "2025-04-22T12:48:00.000000000",
          "2025-04-22T20:28:00.000000000",
          "2025-04-22T21:08:00.000000000",
          "2025-04-22T22:18:00.000000000",
          "2025-04-23T01:38:00.000000000",
          "2025-04-23T04:18:00.000000000",
          "2025-04-23T12:58:00.000000000",
          "2025-04-23T17:48:00.000000000",
          "2025-04-24T02:42:00.000000000",
          "2025-04-24T04:42:00.000000000",
          "2025-04-24T13:32:00.000000000",
          "2025-04-24T14:22:00.000000000",
          "2025-04-24T14:32:00.000000000",
          "2025-04-24T16:42:00.000000000",
          "2025-04-24T20:12:00.000000000",
          "2025-04-24T20:32:00.000000000",
          "2025-04-24T20:42:00.000000000",
          "2025-04-25T02:44:00.000000000",
          "2025-04-25T07:04:00.000000000",
          "2025-04-25T11:04:00.000000000",
          "2025-04-25T14:24:00.000000000",
          "2025-04-25T16:34:00.000000000",
          "2025-04-25T19:04:00.000000000",
          "2025-04-28T02:15:00.000000000",
          "2025-04-28T04:15:00.000000000",
          "2025-04-28T09:05:00.000000000",
          "2025-04-28T09:25:00.000000000",
          "2025-04-28T09:55:00.000000000",
          "2025-04-28T11:45:00.000000000",
          "2025-04-28T14:05:00.000000000",
          "2025-04-28T16:45:00.000000000",
          "2025-04-28T18:15:00.000000000",
          "2025-04-29T00:46:00.000000000",
          "2025-04-29T01:26:00.000000000",
          "2025-04-29T01:36:00.000000000",
          "2025-04-29T04:16:00.000000000",
          "2025-04-29T08:46:00.000000000",
          "2025-04-29T10:46:00.000000000",
          "2025-04-29T13:16:00.000000000",
          "2025-04-29T15:26:00.000000000",
          "2025-04-29T19:16:00.000000000",
          "2025-04-29T19:26:00.000000000",
          "2025-04-29T19:36:00.000000000",
          "2025-04-30T05:26:00.000000000",
          "2025-04-30T07:16:00.000000000",
          "2025-04-30T07:26:00.000000000",
          "2025-04-30T10:36:00.000000000",
          "2025-04-30T10:56:00.000000000",
          "2025-05-01T06:46:00.000000000",
          "2025-05-01T06:56:00.000000000",
          "2025-05-01T10:36:00.000000000",
          "2025-05-01T13:16:00.000000000",
          "2025-05-01T15:36:00.000000000",
          "2025-05-01T16:36:00.000000000",
          "2025-05-01T18:36:00.000000000",
          "2025-05-01T20:56:00.000000000",
          "2025-05-02T01:36:00.000000000",
          "2025-05-02T14:46:00.000000000",
          "2025-05-02T16:06:00.000000000",
          "2025-05-02T18:36:00.000000000",
          "2025-05-02T19:46:00.000000000",
          "2025-05-02T19:56:00.000000000",
          "2025-05-02T20:16:00.000000000",
          "2025-05-04T23:21:00.000000000",
          "2025-05-05T01:01:00.000000000",
          "2025-05-05T02:41:00.000000000",
          "2025-05-05T04:41:00.000000000",
          "2025-05-05T06:01:00.000000000",
          "2025-05-05T07:21:00.000000000",
          "2025-05-05T09:31:00.000000000",
          "2025-05-05T13:01:00.000000000",
          "2025-05-06T00:42:00.000000000",
          "2025-05-06T00:52:00.000000000",
          "2025-05-06T03:12:00.000000000",
          "2025-05-06T03:42:00.000000000",
          "2025-05-06T04:52:00.000000000",
          "2025-05-06T05:02:00.000000000",
          "2025-05-06T07:12:00.000000000",
          "2025-05-06T12:52:00.000000000",
          "2025-05-06T14:52:00.000000000",
          "2025-05-06T15:42:00.000000000",
          "2025-05-06T15:52:00.000000000",
          "2025-05-06T23:53:00.000000000",
          "2025-05-07T02:23:00.000000000",
          "2025-05-07T06:23:00.000000000",
          "2025-05-07T08:03:00.000000000",
          "2025-05-07T10:53:00.000000000",
          "2025-05-07T11:03:00.000000000",
          "2025-05-07T14:43:00.000000000",
          "2025-05-08T01:25:00.000000000",
          "2025-05-08T02:25:00.000000000",
          "2025-05-08T05:55:00.000000000",
          "2025-05-08T09:55:00.000000000",
          "2025-05-08T13:55:00.000000000",
          "2025-05-08T15:05:00.000000000",
          "2025-05-08T16:45:00.000000000",
          "2025-05-09T04:27:00.000000000",
          "2025-05-09T12:57:00.000000000",
          "2025-05-09T13:37:00.000000000",
          "2025-05-09T13:47:00.000000000",
          "2025-05-09T15:27:00.000000000",
          "2025-05-09T20:37:00.000000000",
          "2025-05-12T13:07:00.000000000",
          "2025-05-12T13:37:00.000000000",
          "2025-05-12T18:07:00.000000000",
          "2025-05-12T20:17:00.000000000",
          "2025-05-13T02:57:00.000000000",
          "2025-05-13T04:57:00.000000000",
          "2025-05-13T10:47:00.000000000",
          "2025-05-13T11:07:00.000000000",
          "2025-05-13T16:57:00.000000000",
          "2025-05-14T07:08:00.000000000",
          "2025-05-15T15:20:00.000000000",
          "2025-05-15T16:20:00.000000000",
          "2025-05-15T16:30:00.000000000",
          "2025-05-15T16:40:00.000000000",
          "2025-05-15T16:50:00.000000000",
          "2025-05-15T17:20:00.000000000",
          "2025-05-15T19:20:00.000000000",
          "2025-05-16T02:21:00.000000000",
          "2025-05-16T05:41:00.000000000",
          "2025-05-16T12:21:00.000000000",
          "2025-05-16T12:31:00.000000000",
          "2025-05-16T12:41:00.000000000",
          "2025-05-16T12:51:00.000000000",
          "2025-05-16T15:51:00.000000000",
          "2025-05-16T16:01:00.000000000",
          "2025-05-19T00:21:00.000000000",
          "2025-05-19T01:51:00.000000000",
          "2025-05-19T02:01:00.000000000",
          "2025-05-19T02:11:00.000000000",
          "2025-05-19T05:21:00.000000000",
          "2025-05-19T07:01:00.000000000",
          "2025-05-19T08:11:00.000000000",
          "2025-05-19T09:51:00.000000000",
          "2025-05-19T10:51:00.000000000",
          "2025-05-19T15:31:00.000000000",
          "2025-05-19T17:31:00.000000000",
          "2025-05-19T21:11:00.000000000",
          "2025-05-20T02:21:00.000000000",
          "2025-05-20T02:31:00.000000000",
          "2025-05-20T09:41:00.000000000",
          "2025-05-20T12:51:00.000000000",
          "2025-05-20T16:21:00.000000000",
          "2025-05-21T01:02:00.000000000",
          "2025-05-21T05:32:00.000000000",
          "2025-05-21T07:52:00.000000000",
          "2025-05-21T15:22:00.000000000",
          "2025-05-21T15:32:00.000000000",
          "2025-05-21T17:12:00.000000000",
          "2025-05-21T18:52:00.000000000",
          "2025-05-22T03:15:00.000000000",
          "2025-05-22T03:35:00.000000000",
          "2025-05-22T05:15:00.000000000",
          "2025-05-22T07:25:00.000000000",
          "2025-05-22T14:15:00.000000000",
          "2025-05-22T16:05:00.000000000",
          "2025-05-23T02:58:00.000000000",
          "2025-05-23T03:08:00.000000000",
          "2025-05-23T16:18:00.000000000",
          "2025-05-23T16:38:00.000000000",
          "2025-05-23T16:48:00.000000000",
          "2025-05-23T17:08:00.000000000",
          "2025-05-23T20:28:00.000000000",
          "2025-05-23T20:38:00.000000000",
          "2025-05-25T22:32:00.000000000",
          "2025-05-26T01:32:00.000000000",
          "2025-05-26T04:12:00.000000000",
          "2025-05-26T04:22:00.000000000",
          "2025-05-26T08:42:00.000000000",
          "2025-05-26T14:22:00.000000000",
          "2025-05-27T03:04:00.000000000",
          "2025-05-27T03:44:00.000000000",
          "2025-05-27T15:34:00.000000000",
          "2025-05-27T15:44:00.000000000",
          "2025-05-27T17:24:00.000000000",
          "2025-05-28T02:25:00.000000000",
          "2025-05-28T04:15:00.000000000",
          "2025-05-28T12:45:00.000000000",
          "2025-05-28T14:25:00.000000000",
          "2025-05-28T17:35:00.000000000",
          "2025-05-28T20:15:00.000000000",
          "2025-05-29T00:05:00.000000000",
          "2025-05-29T00:25:00.000000000",
          "2025-05-29T02:35:00.000000000",
          "2025-05-29T04:05:00.000000000",
          "2025-05-29T04:25:00.000000000",
          "2025-05-29T04:35:00.000000000",
          "2025-05-29T04:45:00.000000000",
          "2025-05-29T10:15:00.000000000",
          "2025-05-29T10:45:00.000000000",
          "2025-05-29T10:55:00.000000000",
          "2025-05-29T11:05:00.000000000",
          "2025-05-29T11:15:00.000000000",
          "2025-05-29T16:45:00.000000000",
          "2025-05-29T18:05:00.000000000",
          "2025-05-29T18:35:00.000000000",
          "2025-05-29T18:45:00.000000000",
          "2025-05-30T07:00:00.000000000",
          "2025-05-30T09:20:00.000000000",
          "2025-05-30T14:00:00.000000000",
          "2025-05-30T15:40:00.000000000",
          "2025-05-30T15:50:00.000000000",
          "2025-05-30T16:40:00.000000000",
          "2025-05-30T17:50:00.000000000",
          "2025-05-30T18:30:00.000000000",
          "2025-06-01T22:54:00.000000000",
          "2025-06-02T11:04:00.000000000",
          "2025-06-02T17:54:00.000000000",
          "2025-06-03T06:55:00.000000000",
          "2025-06-03T10:55:00.000000000",
          "2025-06-03T12:45:00.000000000",
          "2025-06-03T13:05:00.000000000",
          "2025-06-04T00:27:00.000000000",
          "2025-06-04T00:37:00.000000000",
          "2025-06-04T04:47:00.000000000",
          "2025-06-04T05:57:00.000000000",
          "2025-06-04T12:47:00.000000000",
          "2025-06-04T14:37:00.000000000",
          "2025-06-04T15:37:00.000000000",
          "2025-06-04T17:57:00.000000000",
          "2025-06-04T18:07:00.000000000",
          "2025-06-05T00:31:00.000000000",
          "2025-06-05T08:41:00.000000000",
          "2025-06-05T11:01:00.000000000",
          "2025-06-05T11:21:00.000000000",
          "2025-06-05T11:41:00.000000000",
          "2025-06-05T14:21:00.000000000",
          "2025-06-05T15:41:00.000000000",
          "2025-06-05T17:11:00.000000000",
          "2025-06-05T19:21:00.000000000",
          "2025-06-06T07:24:00.000000000",
          "2025-06-06T07:44:00.000000000",
          "2025-06-06T08:04:00.000000000",
          "2025-06-06T08:24:00.000000000",
          "2025-06-06T14:04:00.000000000",
          "2025-06-06T16:44:00.000000000",
          "2025-06-06T17:44:00.000000000",
          "2025-06-06T18:04:00.000000000",
          "2025-06-06T18:14:00.000000000",
          "2025-06-09T07:55:00.000000000",
          "2025-06-09T08:05:00.000000000",
          "2025-06-09T09:05:00.000000000",
          "2025-06-09T09:35:00.000000000",
          "2025-06-09T12:15:00.000000000",
          "2025-06-09T12:25:00.000000000",
          "2025-06-09T14:45:00.000000000",
          "2025-06-09T16:35:00.000000000",
          "2025-06-10T08:02:00.000000000",
          "2025-06-10T16:42:00.000000000",
          "2025-06-11T13:14:00.000000000",
          "2025-06-11T13:54:00.000000000",
          "2025-06-11T14:24:00.000000000",
          "2025-06-11T15:24:00.000000000",
          "2025-06-11T16:14:00.000000000",
          "2025-06-11T17:14:00.000000000",
          "2025-06-11T17:34:00.000000000",
          "2025-06-12T02:55:00.000000000",
          "2025-06-12T03:05:00.000000000",
          "2025-06-12T06:45:00.000000000",
          "2025-06-12T10:55:00.000000000",
          "2025-06-12T11:35:00.000000000",
          "2025-06-12T19:45:00.000000000",
          "2025-06-13T02:42:00.000000000",
          "2025-06-13T03:42:00.000000000",
          "2025-06-13T03:52:00.000000000",
          "2025-06-13T04:42:00.000000000",
          "2025-06-13T09:22:00.000000000",
          "2025-06-13T10:02:00.000000000",
          "2025-06-13T11:12:00.000000000",
          "2025-06-13T12:02:00.000000000",
          "2025-06-13T19:42:00.000000000",
          "2025-06-13T19:52:00.000000000",
          "2025-06-16T00:35:00.000000000",
          "2025-06-16T04:15:00.000000000",
          "2025-06-16T08:35:00.000000000",
          "2025-06-16T09:05:00.000000000",
          "2025-06-16T10:55:00.000000000",
          "2025-06-16T12:25:00.000000000",
          "2025-06-17T01:59:00.000000000",
          "2025-06-17T02:09:00.000000000",
          "2025-06-17T04:09:00.000000000",
          "2025-06-17T14:09:00.000000000",
          "2025-06-17T15:29:00.000000000",
          "2025-06-17T17:39:00.000000000",
          "2025-06-17T18:19:00.000000000",
          "2025-06-18T02:04:00.000000000",
          "2025-06-18T05:44:00.000000000",
          "2025-06-18T13:04:00.000000000",
          "2025-06-18T14:24:00.000000000",
          "2025-06-18T19:24:00.000000000",
          "2025-06-19T14:25:00.000000000",
          "2025-06-19T15:35:00.000000000",
          "2025-06-19T20:36:00.000000000",
          "2025-06-19T20:46:00.000000000",
          "2025-06-19T20:56:00.000000000",
          "2025-06-20T01:18:00.000000000",
          "2025-06-20T01:28:00.000000000",
          "2025-06-20T01:58:00.000000000",
          "2025-06-20T09:18:00.000000000",
          "2025-06-20T09:28:00.000000000",
          "2025-06-20T10:08:00.000000000",
          "2025-06-20T12:08:00.000000000",
          "2025-06-20T12:28:00.000000000",
          "2025-06-22T23:11:00.000000000",
          "2025-06-23T08:01:00.000000000",
          "2025-06-23T08:11:00.000000000",
          "2025-06-23T08:21:00.000000000",
          "2025-06-23T08:31:00.000000000",
          "2025-06-23T09:21:00.000000000",
          "2025-06-23T12:51:00.000000000",
          "2025-06-24T05:51:00.000000000",
          "2025-06-24T08:21:00.000000000",
          "2025-06-24T08:31:00.000000000",
          "2025-06-25T01:56:00.000000000",
          "2025-06-25T05:16:00.000000000",
          "2025-06-25T08:06:00.000000000",
          "2025-06-25T08:16:00.000000000",
          "2025-06-25T08:26:00.000000000",
          "2025-06-25T12:26:00.000000000",
          "2025-06-25T14:26:00.000000000",
          "2025-06-26T05:48:00.000000000",
          "2025-06-26T13:48:00.000000000",
          "2025-06-26T15:28:00.000000000",
          "2025-06-26T18:08:00.000000000",
          "2025-06-26T18:18:00.000000000",
          "2025-06-26T19:58:00.000000000",
          "2025-06-27T00:09:00.000000000",
          "2025-06-27T00:19:00.000000000",
          "2025-06-27T10:19:00.000000000",
          "2025-06-27T14:19:00.000000000",
          "2025-06-27T14:29:00.000000000",
          "2025-06-27T15:09:00.000000000",
          "2025-06-30T02:52:00.000000000",
          "2025-06-30T17:12:00.000000000",
          "2025-07-01T08:23:00.000000000",
          "2025-07-01T09:23:00.000000000",
          "2025-07-01T10:13:00.000000000",
          "2025-07-01T11:03:00.000000000",
          "2025-07-01T12:33:00.000000000",
          "2025-07-01T13:43:00.000000000",
          "2025-07-01T14:13:00.000000000",
          "2025-07-01T16:33:00.000000000",
          "2025-07-01T19:53:00.000000000",
          "2025-07-02T10:03:00.000000000",
          "2025-07-02T12:53:00.000000000",
          "2025-07-02T13:03:00.000000000",
          "2025-07-02T14:03:00.000000000",
          "2025-07-02T14:13:00.000000000",
          "2025-07-02T14:23:00.000000000",
          "2025-07-02T16:03:00.000000000",
          "2025-07-02T17:33:00.000000000",
          "2025-07-02T17:43:00.000000000",
          "2025-07-02T18:23:00.000000000",
          "2025-07-03T06:57:00.000000000",
          "2025-07-03T08:47:00.000000000",
          "2025-07-03T08:57:00.000000000",
          "2025-07-04T07:05:00.000000000",
          "2025-07-04T08:15:00.000000000",
          "2025-07-06T22:28:00.000000000",
          "2025-07-06T22:38:00.000000000",
          "2025-07-07T02:09:00.000000000",
          "2025-07-07T03:49:00.000000000",
          "2025-07-08T00:50:00.000000000",
          "2025-07-08T14:50:00.000000000",
          "2025-07-08T16:20:00.000000000",
          "2025-07-08T17:30:00.000000000",
          "2025-07-08T17:40:00.000000000",
          "2025-07-08T17:50:00.000000000",
          "2025-07-08T18:40:00.000000000",
          "2025-07-08T19:10:00.000000000",
          "2025-07-10T07:32:00.000000000",
          "2025-07-10T08:52:00.000000000",
          "2025-07-10T09:12:00.000000000",
          "2025-07-10T17:12:00.000000000",
          "2025-07-11T01:04:00.000000000",
          "2025-07-11T08:34:00.000000000",
          "2025-07-11T08:44:00.000000000",
          "2025-07-11T11:54:00.000000000",
          "2025-07-11T16:54:00.000000000",
          "2025-07-13T21:58:00.000000000",
          "2025-07-15T02:06:00.000000000",
          "2025-07-15T09:46:00.000000000",
          "2025-07-15T17:46:00.000000000",
          "2025-07-15T17:56:00.000000000",
          "2025-07-16T01:19:00.000000000",
          "2025-07-16T14:19:00.000000000",
          "2025-07-17T14:41:00.000000000",
          "2025-07-17T18:11:00.000000000",
          "2025-07-18T07:33:00.000000000",
          "2025-07-18T09:13:00.000000000",
          "2025-07-18T09:33:00.000000000",
          "2025-07-18T09:43:00.000000000",
          "2025-07-18T12:03:00.000000000",
          "2025-07-18T14:03:00.000000000",
          "2025-07-18T15:43:00.000000000",
          "2025-07-18T16:43:00.000000000",
          "2025-07-18T18:43:00.000000000",
          "2025-07-20T21:08:00.000000000",
          "2025-07-21T02:08:00.000000000",
          "2025-07-21T03:08:00.000000000",
          "2025-07-21T07:59:00.000000000",
          "2025-07-21T10:09:00.000000000",
          "2025-07-21T10:29:00.000000000",
          "2025-07-21T18:59:00.000000000",
          "2025-07-22T09:51:00.000000000",
          "2025-07-22T16:51:00.000000000",
          "2025-07-23T00:36:00.000000000",
          "2025-07-23T01:06:00.000000000",
          "2025-07-23T03:16:00.000000000",
          "2025-07-23T14:56:00.000000000",
          "2025-07-24T02:27:00.000000000",
          "2025-07-24T08:17:00.000000000",
          "2025-07-24T10:27:00.000000000",
          "2025-07-24T10:47:00.000000000",
          "2025-07-24T10:57:00.000000000",
          "2025-07-24T13:37:00.000000000",
          "2025-07-25T06:19:00.000000000"
         ],
         "xaxis": "x",
         "y": {
          "bdata": "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",
          "dtype": "i4"
         },
         "yaxis": "y"
        },
        {
         "customdata": [
          [
           "bearish",
           "loss"
          ],
          [
           "bearish",
           "loss"
          ],
          [
           "bearish",
           "loss"
          ],
          [
           "bearish",
           "loss"
          ],
          [
           "bullish",
           "loss"
          ],
          [
           "bullish",
           "loss"
          ],
          [
           "bullish",
           "loss"
          ],
          [
           "bearish",
           "loss"
          ],
          [
           "bearish",
           "loss"
          ],
          [
           "bearish",
           "loss"
          ],
          [
           "bullish",
           "loss"
          ],
          [
           "bullish",
           "loss"
          ],
          [
           "bullish",
           "loss"
          ],
          [
           "bullish",
           "loss"
          ],
          [
           "bullish",
           "loss"
          ],
          [
           "bearish",
           "loss"
          ],
          [
           "bullish",
           "loss"
          ],
          [
           "bearish",
           "loss"
          ],
          [
           "bearish",
           "loss"
          ],
          [
           "bullish",
           "loss"
          ],
          [
           "bullish",
           "loss"
          ],
          [
           "bearish",
           "loss"
          ],
          [
           "bullish",
           "loss"
          ],
          [
           "bearish",
           "loss"
          ],
          [
           "bearish",
           "loss"
          ],
          [
           "bearish",
           "loss"
          ],
          [
           "bullish",
           "loss"
          ],
          [
           "bullish",
           "loss"
          ],
          [
           "bullish",
           "loss"
          ],
          [
           "bearish",
           "loss"
          ],
          [
           "bearish",
           "loss"
          ],
          [
           "bearish",
           "loss"
          ],
          [
           "bullish",
           "loss"
          ],
          [
           "bearish",
           "loss"
          ],
          [
           "bearish",
           "loss"
          ],
          [
           "bullish",
           "loss"
          ],
          [
           "bullish",
           "loss"
          ],
          [
           "bullish",
           "loss"
          ],
          [
           "bullish",
           "loss"
          ],
          [
           "bearish",
           "loss"
          ],
          [
           "bearish",
           "loss"
          ],
          [
           "bullish",
           "loss"
          ],
          [
           "bearish",
           "loss"
          ],
          [
           "bearish",
           "loss"
          ],
          [
           "bearish",
           "loss"
          ]
         ],
         "hovertemplate": "outcome=%{customdata[1]}<br>ts_entry=%{x}<br>hour=%{y}<br>direction=%{customdata[0]}<extra></extra>",
         "legendgroup": "loss",
         "marker": {
          "color": "#EF553B",
          "opacity": 0.7,
          "size": 8,
          "symbol": "circle"
         },
         "mode": "markers",
         "name": "loss",
         "orientation": "v",
         "showlegend": true,
         "type": "scatter",
         "x": [
          "2025-04-22T08:18:00.000000000",
          "2025-04-22T17:38:00.000000000",
          "2025-04-23T11:28:00.000000000",
          "2025-04-24T05:12:00.000000000",
          "2025-04-24T05:32:00.000000000",
          "2025-04-24T15:12:00.000000000",
          "2025-04-28T01:15:00.000000000",
          "2025-04-28T14:15:00.000000000",
          "2025-04-30T14:56:00.000000000",
          "2025-05-01T03:46:00.000000000",
          "2025-05-02T14:56:00.000000000",
          "2025-05-05T13:41:00.000000000",
          "2025-05-06T20:22:00.000000000",
          "2025-05-07T11:43:00.000000000",
          "2025-05-07T15:03:00.000000000",
          "2025-05-08T01:35:00.000000000",
          "2025-05-08T19:15:00.000000000",
          "2025-05-13T03:17:00.000000000",
          "2025-05-14T14:38:00.000000000",
          "2025-05-19T15:41:00.000000000",
          "2025-05-22T12:25:00.000000000",
          "2025-05-23T08:48:00.000000000",
          "2025-05-23T11:38:00.000000000",
          "2025-05-23T15:28:00.000000000",
          "2025-05-30T14:40:00.000000000",
          "2025-06-03T07:05:00.000000000",
          "2025-06-03T08:55:00.000000000",
          "2025-06-09T07:45:00.000000000",
          "2025-06-09T09:45:00.000000000",
          "2025-06-12T00:25:00.000000000",
          "2025-06-12T05:05:00.000000000",
          "2025-06-12T07:45:00.000000000",
          "2025-06-16T11:25:00.000000000",
          "2025-06-18T05:54:00.000000000",
          "2025-06-20T02:18:00.000000000",
          "2025-06-20T13:58:00.000000000",
          "2025-06-20T20:58:00.000000000",
          "2025-06-25T07:46:00.000000000",
          "2025-07-01T14:33:00.000000000",
          "2025-07-02T12:13:00.000000000",
          "2025-07-07T15:59:00.000000000",
          "2025-07-09T13:36:00.000000000",
          "2025-07-18T07:53:00.000000000",
          "2025-07-21T08:19:00.000000000",
          "2025-07-21T08:29:00.000000000"
         ],
         "xaxis": "x",
         "y": {
          "bdata": "CAAAABEAAAALAAAABQAAAAUAAAAPAAAAAQAAAA4AAAAOAAAAAwAAAA4AAAANAAAAFAAAAAsAAAAPAAAAAQAAABMAAAADAAAADgAAAA8AAAAMAAAACAAAAAsAAAAPAAAADgAAAAcAAAAIAAAABwAAAAkAAAAAAAAABQAAAAcAAAALAAAABQAAAAIAAAANAAAAFAAAAAcAAAAOAAAADAAAAA8AAAANAAAABwAAAAgAAAAIAAAA",
          "dtype": "i4"
         },
         "yaxis": "y"
        },
        {
         "customdata": [
          [
           "bearish",
           "win"
          ],
          [
           "bearish",
           "win"
          ],
          [
           "bullish",
           "win"
          ],
          [
           "bearish",
           "win"
          ],
          [
           "bearish",
           "win"
          ],
          [
           "bullish",
           "win"
          ],
          [
           "bearish",
           "win"
          ],
          [
           "bullish",
           "win"
          ],
          [
           "bearish",
           "win"
          ],
          [
           "bullish",
           "win"
          ],
          [
           "bullish",
           "win"
          ],
          [
           "bearish",
           "win"
          ],
          [
           "bullish",
           "win"
          ],
          [
           "bearish",
           "win"
          ],
          [
           "bearish",
           "win"
          ],
          [
           "bearish",
           "win"
          ],
          [
           "bearish",
           "win"
          ],
          [
           "bearish",
           "win"
          ],
          [
           "bullish",
           "win"
          ],
          [
           "bearish",
           "win"
          ],
          [
           "bullish",
           "win"
          ],
          [
           "bearish",
           "win"
          ],
          [
           "bullish",
           "win"
          ],
          [
           "bullish",
           "win"
          ],
          [
           "bullish",
           "win"
          ],
          [
           "bearish",
           "win"
          ],
          [
           "bullish",
           "win"
          ],
          [
           "bullish",
           "win"
          ]
         ],
         "hovertemplate": "outcome=%{customdata[1]}<br>ts_entry=%{x}<br>hour=%{y}<br>direction=%{customdata[0]}<extra></extra>",
         "legendgroup": "win",
         "marker": {
          "color": "#00cc96",
          "opacity": 0.7,
          "size": 8,
          "symbol": "circle"
         },
         "mode": "markers",
         "name": "win",
         "orientation": "v",
         "showlegend": true,
         "type": "scatter",
         "x": [
          "2025-04-23T03:18:00.000000000",
          "2025-04-23T13:18:00.000000000",
          "2025-04-28T18:55:00.000000000",
          "2025-04-30T01:46:00.000000000",
          "2025-05-05T03:01:00.000000000",
          "2025-05-05T09:01:00.000000000",
          "2025-05-08T15:35:00.000000000",
          "2025-05-12T11:07:00.000000000",
          "2025-05-14T16:28:00.000000000",
          "2025-05-15T08:20:00.000000000",
          "2025-05-22T11:05:00.000000000",
          "2025-05-22T14:35:00.000000000",
          "2025-05-26T01:42:00.000000000",
          "2025-05-28T14:35:00.000000000",
          "2025-05-30T19:20:00.000000000",
          "2025-06-04T00:47:00.000000000",
          "2025-06-04T00:57:00.000000000",
          "2025-06-10T01:22:00.000000000",
          "2025-06-13T04:52:00.000000000",
          "2025-06-13T09:42:00.000000000",
          "2025-06-20T09:58:00.000000000",
          "2025-06-20T20:48:00.000000000",
          "2025-06-26T07:58:00.000000000",
          "2025-06-30T15:32:00.000000000",
          "2025-07-02T16:53:00.000000000",
          "2025-07-07T02:19:00.000000000",
          "2025-07-11T13:34:00.000000000",
          "2025-07-25T06:29:00.000000000"
         ],
         "xaxis": "x",
         "y": {
          "bdata": "AwAAAA0AAAASAAAAAQAAAAMAAAAJAAAADwAAAAsAAAAQAAAACAAAAAsAAAAOAAAAAQAAAA4AAAATAAAAAAAAAAAAAAABAAAABAAAAAkAAAAJAAAAFAAAAAcAAAAPAAAAEAAAAAIAAAANAAAABgAAAA==",
          "dtype": "i4"
         },
         "yaxis": "y"
        }
       ],
       "layout": {
        "legend": {
         "title": {
          "text": "outcome"
         },
         "tracegroupgap": 0
        },
        "template": {
         "data": {
          "bar": [
           {
            "error_x": {
             "color": "#2a3f5f"
            },
            "error_y": {
             "color": "#2a3f5f"
            },
            "marker": {
             "line": {
              "color": "#E5ECF6",
              "width": 0.5
             },
             "pattern": {
              "fillmode": "overlay",
              "size": 10,
              "solidity": 0.2
             }
            },
            "type": "bar"
           }
          ],
          "barpolar": [
           {
            "marker": {
             "line": {
              "color": "#E5ECF6",
              "width": 0.5
             },
             "pattern": {
              "fillmode": "overlay",
              "size": 10,
              "solidity": 0.2
             }
            },
            "type": "barpolar"
           }
          ],
          "carpet": [
           {
            "aaxis": {
             "endlinecolor": "#2a3f5f",
             "gridcolor": "white",
             "linecolor": "white",
             "minorgridcolor": "white",
             "startlinecolor": "#2a3f5f"
            },
            "baxis": {
             "endlinecolor": "#2a3f5f",
             "gridcolor": "white",
             "linecolor": "white",
             "minorgridcolor": "white",
             "startlinecolor": "#2a3f5f"
            },
            "type": "carpet"
           }
          ],
          "choropleth": [
           {
            "colorbar": {
             "outlinewidth": 0,
             "ticks": ""
            },
            "type": "choropleth"
           }
          ],
          "contour": [
           {
            "colorbar": {
             "outlinewidth": 0,
             "ticks": ""
            },
            "colorscale": [
             [
              0,
              "#0d0887"
             ],
             [
              0.1111111111111111,
              "#46039f"
             ],
             [
              0.2222222222222222,
              "#7201a8"
             ],
             [
              0.3333333333333333,
              "#9c179e"
             ],
             [
              0.4444444444444444,
              "#bd3786"
             ],
             [
              0.5555555555555556,
              "#d8576b"
             ],
             [
              0.6666666666666666,
              "#ed7953"
             ],
             [
              0.7777777777777778,
              "#fb9f3a"
             ],
             [
              0.8888888888888888,
              "#fdca26"
             ],
             [
              1,
              "#f0f921"
             ]
            ],
            "type": "contour"
           }
          ],
          "contourcarpet": [
           {
            "colorbar": {
             "outlinewidth": 0,
             "ticks": ""
            },
            "type": "contourcarpet"
           }
          ],
          "heatmap": [
           {
            "colorbar": {
             "outlinewidth": 0,
             "ticks": ""
            },
            "colorscale": [
             [
              0,
              "#0d0887"
             ],
             [
              0.1111111111111111,
              "#46039f"
             ],
             [
              0.2222222222222222,
              "#7201a8"
             ],
             [
              0.3333333333333333,
              "#9c179e"
             ],
             [
              0.4444444444444444,
              "#bd3786"
             ],
             [
              0.5555555555555556,
              "#d8576b"
             ],
             [
              0.6666666666666666,
              "#ed7953"
             ],
             [
              0.7777777777777778,
              "#fb9f3a"
             ],
             [
              0.8888888888888888,
              "#fdca26"
             ],
             [
              1,
              "#f0f921"
             ]
            ],
            "type": "heatmap"
           }
          ],
          "histogram": [
           {
            "marker": {
             "pattern": {
              "fillmode": "overlay",
              "size": 10,
              "solidity": 0.2
             }
            },
            "type": "histogram"
           }
          ],
          "histogram2d": [
           {
            "colorbar": {
             "outlinewidth": 0,
             "ticks": ""
            },
            "colorscale": [
             [
              0,
              "#0d0887"
             ],
             [
              0.1111111111111111,
              "#46039f"
             ],
             [
              0.2222222222222222,
              "#7201a8"
             ],
             [
              0.3333333333333333,
              "#9c179e"
             ],
             [
              0.4444444444444444,
              "#bd3786"
             ],
             [
              0.5555555555555556,
              "#d8576b"
             ],
             [
              0.6666666666666666,
              "#ed7953"
             ],
             [
              0.7777777777777778,
              "#fb9f3a"
             ],
             [
              0.8888888888888888,
              "#fdca26"
             ],
             [
              1,
              "#f0f921"
             ]
            ],
            "type": "histogram2d"
           }
          ],
          "histogram2dcontour": [
           {
            "colorbar": {
             "outlinewidth": 0,
             "ticks": ""
            },
            "colorscale": [
             [
              0,
              "#0d0887"
             ],
             [
              0.1111111111111111,
              "#46039f"
             ],
             [
              0.2222222222222222,
              "#7201a8"
             ],
             [
              0.3333333333333333,
              "#9c179e"
             ],
             [
              0.4444444444444444,
              "#bd3786"
             ],
             [
              0.5555555555555556,
              "#d8576b"
             ],
             [
              0.6666666666666666,
              "#ed7953"
             ],
             [
              0.7777777777777778,
              "#fb9f3a"
             ],
             [
              0.8888888888888888,
              "#fdca26"
             ],
             [
              1,
              "#f0f921"
             ]
            ],
            "type": "histogram2dcontour"
           }
          ],
          "mesh3d": [
           {
            "colorbar": {
             "outlinewidth": 0,
             "ticks": ""
            },
            "type": "mesh3d"
           }
          ],
          "parcoords": [
           {
            "line": {
             "colorbar": {
              "outlinewidth": 0,
              "ticks": ""
             }
            },
            "type": "parcoords"
           }
          ],
          "pie": [
           {
            "automargin": true,
            "type": "pie"
           }
          ],
          "scatter": [
           {
            "fillpattern": {
             "fillmode": "overlay",
             "size": 10,
             "solidity": 0.2
            },
            "type": "scatter"
           }
          ],
          "scatter3d": [
           {
            "line": {
             "colorbar": {
              "outlinewidth": 0,
              "ticks": ""
             }
            },
            "marker": {
             "colorbar": {
              "outlinewidth": 0,
              "ticks": ""
             }
            },
            "type": "scatter3d"
           }
          ],
          "scattercarpet": [
           {
            "marker": {
             "colorbar": {
              "outlinewidth": 0,
              "ticks": ""
             }
            },
            "type": "scattercarpet"
           }
          ],
          "scattergeo": [
           {
            "marker": {
             "colorbar": {
              "outlinewidth": 0,
              "ticks": ""
             }
            },
            "type": "scattergeo"
           }
          ],
          "scattergl": [
           {
            "marker": {
             "colorbar": {
              "outlinewidth": 0,
              "ticks": ""
             }
            },
            "type": "scattergl"
           }
          ],
          "scattermap": [
           {
            "marker": {
             "colorbar": {
              "outlinewidth": 0,
              "ticks": ""
             }
            },
            "type": "scattermap"
           }
          ],
          "scattermapbox": [
           {
            "marker": {
             "colorbar": {
              "outlinewidth": 0,
              "ticks": ""
             }
            },
            "type": "scattermapbox"
           }
          ],
          "scatterpolar": [
           {
            "marker": {
             "colorbar": {
              "outlinewidth": 0,
              "ticks": ""
             }
            },
            "type": "scatterpolar"
           }
          ],
          "scatterpolargl": [
           {
            "marker": {
             "colorbar": {
              "outlinewidth": 0,
              "ticks": ""
             }
            },
            "type": "scatterpolargl"
           }
          ],
          "scatterternary": [
           {
            "marker": {
             "colorbar": {
              "outlinewidth": 0,
              "ticks": ""
             }
            },
            "type": "scatterternary"
           }
          ],
          "surface": [
           {
            "colorbar": {
             "outlinewidth": 0,
             "ticks": ""
            },
            "colorscale": [
             [
              0,
              "#0d0887"
             ],
             [
              0.1111111111111111,
              "#46039f"
             ],
             [
              0.2222222222222222,
              "#7201a8"
             ],
             [
              0.3333333333333333,
              "#9c179e"
             ],
             [
              0.4444444444444444,
              "#bd3786"
             ],
             [
              0.5555555555555556,
              "#d8576b"
             ],
             [
              0.6666666666666666,
              "#ed7953"
             ],
             [
              0.7777777777777778,
              "#fb9f3a"
             ],
             [
              0.8888888888888888,
              "#fdca26"
             ],
             [
              1,
              "#f0f921"
             ]
            ],
            "type": "surface"
           }
          ],
          "table": [
           {
            "cells": {
             "fill": {
              "color": "#EBF0F8"
             },
             "line": {
              "color": "white"
             }
            },
            "header": {
             "fill": {
              "color": "#C8D4E3"
             },
             "line": {
              "color": "white"
             }
            },
            "type": "table"
           }
          ]
         },
         "layout": {
          "annotationdefaults": {
           "arrowcolor": "#2a3f5f",
           "arrowhead": 0,
           "arrowwidth": 1
          },
          "autotypenumbers": "strict",
          "coloraxis": {
           "colorbar": {
            "outlinewidth": 0,
            "ticks": ""
           }
          },
          "colorscale": {
           "diverging": [
            [
             0,
             "#8e0152"
            ],
            [
             0.1,
             "#c51b7d"
            ],
            [
             0.2,
             "#de77ae"
            ],
            [
             0.3,
             "#f1b6da"
            ],
            [
             0.4,
             "#fde0ef"
            ],
            [
             0.5,
             "#f7f7f7"
            ],
            [
             0.6,
             "#e6f5d0"
            ],
            [
             0.7,
             "#b8e186"
            ],
            [
             0.8,
             "#7fbc41"
            ],
            [
             0.9,
             "#4d9221"
            ],
            [
             1,
             "#276419"
            ]
           ],
           "sequential": [
            [
             0,
             "#0d0887"
            ],
            [
             0.1111111111111111,
             "#46039f"
            ],
            [
             0.2222222222222222,
             "#7201a8"
            ],
            [
             0.3333333333333333,
             "#9c179e"
            ],
            [
             0.4444444444444444,
             "#bd3786"
            ],
            [
             0.5555555555555556,
             "#d8576b"
            ],
            [
             0.6666666666666666,
             "#ed7953"
            ],
            [
             0.7777777777777778,
             "#fb9f3a"
            ],
            [
             0.8888888888888888,
             "#fdca26"
            ],
            [
             1,
             "#f0f921"
            ]
           ],
           "sequentialminus": [
            [
             0,
             "#0d0887"
            ],
            [
             0.1111111111111111,
             "#46039f"
            ],
            [
             0.2222222222222222,
             "#7201a8"
            ],
            [
             0.3333333333333333,
             "#9c179e"
            ],
            [
             0.4444444444444444,
             "#bd3786"
            ],
            [
             0.5555555555555556,
             "#d8576b"
            ],
            [
             0.6666666666666666,
             "#ed7953"
            ],
            [
             0.7777777777777778,
             "#fb9f3a"
            ],
            [
             0.8888888888888888,
             "#fdca26"
            ],
            [
             1,
             "#f0f921"
            ]
           ]
          },
          "colorway": [
           "#636efa",
           "#EF553B",
           "#00cc96",
           "#ab63fa",
           "#FFA15A",
           "#19d3f3",
           "#FF6692",
           "#B6E880",
           "#FF97FF",
           "#FECB52"
          ],
          "font": {
           "color": "#2a3f5f"
          },
          "geo": {
           "bgcolor": "white",
           "lakecolor": "white",
           "landcolor": "#E5ECF6",
           "showlakes": true,
           "showland": true,
           "subunitcolor": "white"
          },
          "hoverlabel": {
           "align": "left"
          },
          "hovermode": "closest",
          "mapbox": {
           "style": "light"
          },
          "paper_bgcolor": "white",
          "plot_bgcolor": "#E5ECF6",
          "polar": {
           "angularaxis": {
            "gridcolor": "white",
            "linecolor": "white",
            "ticks": ""
           },
           "bgcolor": "#E5ECF6",
           "radialaxis": {
            "gridcolor": "white",
            "linecolor": "white",
            "ticks": ""
           }
          },
          "scene": {
           "xaxis": {
            "backgroundcolor": "#E5ECF6",
            "gridcolor": "white",
            "gridwidth": 2,
            "linecolor": "white",
            "showbackground": true,
            "ticks": "",
            "zerolinecolor": "white"
           },
           "yaxis": {
            "backgroundcolor": "#E5ECF6",
            "gridcolor": "white",
            "gridwidth": 2,
            "linecolor": "white",
            "showbackground": true,
            "ticks": "",
            "zerolinecolor": "white"
           },
           "zaxis": {
            "backgroundcolor": "#E5ECF6",
            "gridcolor": "white",
            "gridwidth": 2,
            "linecolor": "white",
            "showbackground": true,
            "ticks": "",
            "zerolinecolor": "white"
           }
          },
          "shapedefaults": {
           "line": {
            "color": "#2a3f5f"
           }
          },
          "ternary": {
           "aaxis": {
            "gridcolor": "white",
            "linecolor": "white",
            "ticks": ""
           },
           "baxis": {
            "gridcolor": "white",
            "linecolor": "white",
            "ticks": ""
           },
           "bgcolor": "#E5ECF6",
           "caxis": {
            "gridcolor": "white",
            "linecolor": "white",
            "ticks": ""
           }
          },
          "title": {
           "x": 0.05
          },
          "xaxis": {
           "automargin": true,
           "gridcolor": "white",
           "linecolor": "white",
           "ticks": "",
           "title": {
            "standoff": 15
           },
           "zerolinecolor": "white",
           "zerolinewidth": 2
          },
          "yaxis": {
           "automargin": true,
           "gridcolor": "white",
           "linecolor": "white",
           "ticks": "",
           "title": {
            "standoff": 15
           },
           "zerolinecolor": "white",
           "zerolinewidth": 2
          }
         }
        },
        "title": {
         "text": "Trade Outcomes Over Time (Y=Hour of Day)"
        },
        "xaxis": {
         "anchor": "y",
         "domain": [
          0,
          1
         ],
         "title": {
          "text": "ts_entry"
         }
        },
        "yaxis": {
         "anchor": "x",
         "domain": [
          0,
          1
         ],
         "title": {
          "text": "hour"
         }
        }
       }
      }
     },
     "metadata": {},
     "output_type": "display_data"
    }
   ],
   "source": [
    "import plotly.express as px\n",
    "\n",
    "# Prepare timeline scatter (one point per trade)\n",
    "plot_df = df.copy()\n",
    "plot_df['result_color'] = np.select(\n",
    "    [plot_df.is_win==1, plot_df.is_loss==1, plot_df.is_timeout==1],\n",
    "    ['green','red','orange'], 'gray'\n",
    ")\n",
    "fig = px.scatter(\n",
    "    plot_df,\n",
    "    x='ts_entry',\n",
    "    y='hour',\n",
    "    color='outcome',\n",
    "    title='Trade Outcomes Over Time (Y=Hour of Day)',\n",
    "    hover_data=['direction','outcome']\n",
    ")\n",
    "fig.update_traces(marker=dict(size=8, opacity=0.7))\n",
    "fig.show()"
   ]
  },
  {
   "cell_type": "code",
   "execution_count": 10,
   "id": "cbc52116",
   "metadata": {},
   "outputs": [
    {
     "name": "stdout",
     "output_type": "stream",
     "text": [
      "Session Performance:\n",
      "         trades  wins  losses  timeouts  win_rate\n",
      "session                                          \n",
      "Asia        153    11      15       127  0.071895\n",
      "US          202    11      18       173  0.054455\n",
      "Europe      131     6      12       113  0.045802\n",
      "Off          14     0       0        14  0.000000\n",
      "Best session by win rate: Asia\n",
      "Worst session by win rate: Off\n"
     ]
    },
    {
     "data": {
      "image/png": "[encoded data removed]",
      "text/plain": [
       "<Figure size 600x400 with 1 Axes>"
      ]
     },
     "metadata": {},
     "output_type": "display_data"
    },
    {
     "name": "stdout",
     "output_type": "stream",
     "text": [
      "\n",
      "Directional performance by session:\n",
      "                   trades  wins  losses  win_rate\n",
      "session direction                                \n",
      "Asia    bearish        74     7      11  0.094595\n",
      "        bullish        79     4       4  0.050633\n",
      "Europe  bearish        76     1       6  0.013158\n",
      "        bullish        55     5       6  0.090909\n",
      "Off     bearish         4     0       0  0.000000\n",
      "        bullish        10     0       0  0.000000\n",
      "US      bearish        89     7       7  0.078652\n",
      "        bullish       113     4      11  0.035398\n"
     ]
    },
    {
     "data": {
      "image/png": "[encoded data removed]",
      "text/plain": [
       "<Figure size 500x300 with 2 Axes>"
      ]
     },
     "metadata": {},
     "output_type": "display_data"
    },
    {
     "data": {
      "image/png": "[encoded data removed]",
      "text/plain": [
       "<Figure size 1000x400 with 1 Axes>"
      ]
     },
     "metadata": {},
     "output_type": "display_data"
    },
    {
     "data": {
      "text/plain": [
       "{'Asia': {'trades': 153,\n",
       "  'wins': 11,\n",
       "  'losses': 15,\n",
       "  'timeouts': 127,\n",
       "  'win_rate': 0.0718954248366013},\n",
       " 'Europe': {'trades': 131,\n",
       "  'wins': 6,\n",
       "  'losses': 12,\n",
       "  'timeouts': 113,\n",
       "  'win_rate': 0.04580152671755725},\n",
       " 'Off': {'trades': 14,\n",
       "  'wins': 0,\n",
       "  'losses': 0,\n",
       "  'timeouts': 14,\n",
       "  'win_rate': 0.0},\n",
       " 'US': {'trades': 202,\n",
       "  'wins': 11,\n",
       "  'losses': 18,\n",
       "  'timeouts': 173,\n",
       "  'win_rate': 0.054455445544554455}}"
      ]
     },
     "execution_count": 10,
     "metadata": {},
     "output_type": "execute_result"
    }
   ],
   "source": [
    "# --- Session (Asia / Europe / US) Analysis ---\n",
    "import pandas as pd, numpy as np, matplotlib.pyplot as plt, seaborn as sns\n",
    "\n",
    "if 'hour' not in df.columns:\n",
    "    df['hour'] = df.ts_entry.dt.hour\n",
    "\n",
    "# Define sessions in UTC (simplified, non-overlapping)\n",
    "# Asia:   00-07, Europe: 08-12, US: 13-20, Off: others\n",
    "# You can adjust ranges below easily.\n",
    "\n",
    "def classify_session(h):\n",
    "    if 0 <= h <= 7: return 'Asia'\n",
    "    if 8 <= h <= 12: return 'Europe'\n",
    "    if 13 <= h <= 20: return 'US'\n",
    "    return 'Off'\n",
    "\n",
    "df['session'] = df['hour'].apply(classify_session)\n",
    "\n",
    "session_stats = df.groupby('session').agg(\n",
    "    trades=('outcome','count'),\n",
    "    wins=('is_win','sum'),\n",
    "    losses=('is_loss','sum'),\n",
    "    timeouts=('is_timeout','sum')\n",
    ")\n",
    "session_stats['win_rate'] = (session_stats['wins'] / session_stats['trades']).replace([np.inf, np.nan], 0)\n",
    "\n",
    "# Filter out Off if no need\n",
    "display_stats = session_stats.sort_values('win_rate', ascending=False)\n",
    "print('Session Performance:')\n",
    "print(display_stats)\n",
    "\n",
    "best_session = display_stats['win_rate'].idxmax() if len(display_stats)>0 else None\n",
    "worst_session = display_stats[display_stats.trades>0]['win_rate'].idxmin() if (display_stats.trades>0).any() else None\n",
    "print(f\"Best session by win rate: {best_session}\")\n",
    "print(f\"Worst session by win rate: {worst_session}\")\n",
    "\n",
    "# Plot win rate per session\n",
    "plt.figure(figsize=(6,4))\n",
    "plt.bar(display_stats.index, display_stats['win_rate'], color=['#4caf50' if s==best_session else '#ff7043' if s==worst_session else '#2196f3' for s in display_stats.index])\n",
    "plt.title('Win Rate per Session (UTC)')\n",
    "plt.ylabel('Win Rate')\n",
    "plt.ylim(0,1)\n",
    "for i,(s,row) in enumerate(display_stats.iterrows()):\n",
    "    plt.text(i, row.win_rate+0.01, f\"{row.win_rate:.2f}\\n({row.trades}T)\", ha='center', fontsize=9)\n",
    "plt.tight_layout()\n",
    "plt.show()\n",
    "\n",
    "# Directional performance per session (if direction column available)\n",
    "if 'direction' in df.columns:\n",
    "    dir_stats = df.groupby(['session','direction']).agg(\n",
    "        trades=('outcome','count'),\n",
    "        wins=('is_win','sum'),\n",
    "        losses=('is_loss','sum')\n",
    "    )\n",
    "    dir_stats['win_rate'] = (dir_stats['wins']/dir_stats['trades']).replace([np.inf,np.nan],0)\n",
    "    print('\\nDirectional performance by session:')\n",
    "    print(dir_stats)\n",
    "    # Pivot for heatmap\n",
    "    pivot_dir = dir_stats.reset_index().pivot_table(values='win_rate', index='session', columns='direction', fill_value=0)\n",
    "    plt.figure(figsize=(5,3))\n",
    "    sns.heatmap(pivot_dir, annot=True, fmt='.2f', cmap='Blues', cbar_kws={'label':'Win Rate'})\n",
    "    plt.title('Directional Win Rate by Session')\n",
    "    plt.tight_layout()\n",
    "    plt.show()\n",
    "\n",
    "# Hour distribution inside each session (wins vs losses)\n",
    "plt.figure(figsize=(10,4))\n",
    "for sess in ['Asia','Europe','US']:\n",
    "    subset = df[df.session==sess]\n",
    "    if subset.empty: continue\n",
    "    wins_per_hour = subset.groupby('hour')['is_win'].sum()\n",
    "    losses_per_hour = subset.groupby('hour')['is_loss'].sum()\n",
    "    plt.plot(wins_per_hour.index, wins_per_hour.values, marker='o', label=f'{sess} Wins')\n",
    "    plt.plot(losses_per_hour.index, losses_per_hour.values, marker='x', linestyle='--', label=f'{sess} Losses')\n",
    "plt.title('Wins / Losses per Hour inside Sessions')\n",
    "plt.xlabel('Hour (UTC)')\n",
    "plt.ylabel('Count')\n",
    "plt.grid(alpha=0.3)\n",
    "plt.legend()\n",
    "plt.tight_layout()\n",
    "plt.show()\n",
    "\n",
    "# Summary dictionary (could be saved if needed)\n",
    "session_summary = session_stats.to_dict('index')\n",
    "session_summary"
   ]
  }
 ],
 "metadata": {
  "kernelspec": {
   "display_name": "Python (myenv)",
   "language": "python",
   "name": "myenv"
  },
  "language_info": {
   "codemirror_mode": {
    "name": "ipython",
    "version": 3
   },
   "file_extension": ".py",
   "mimetype": "text/x-python",
   "name": "python",
   "nbconvert_exporter": "python",
   "pygments_lexer": "ipython3",
   "version": "3.12.3"
  }
 },
 "nbformat": 4,
 "nbformat_minor": 5
}
